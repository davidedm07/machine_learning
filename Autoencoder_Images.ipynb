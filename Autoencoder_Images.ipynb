{
  "nbformat": 4,
  "nbformat_minor": 0,
  "metadata": {
    "colab": {
      "name": "Autoencoder - Images",
      "provenance": [],
      "authorship_tag": "ABX9TyP31CM8RSTzH5DmFADwTDB6",
      "include_colab_link": true
    },
    "kernelspec": {
      "name": "python3",
      "display_name": "Python 3"
    },
    "language_info": {
      "name": "python"
    }
  },
  "cells": [
    {
      "cell_type": "markdown",
      "metadata": {
        "id": "view-in-github",
        "colab_type": "text"
      },
      "source": [
        "<a href=\"https://colab.research.google.com/github/davidedm07/machine_learning/blob/main/Autoencoder_Images.ipynb\" target=\"_parent\"><img src=\"https://colab.research.google.com/assets/colab-badge.svg\" alt=\"Open In Colab\"/></a>"
      ]
    },
    {
      "cell_type": "code",
      "metadata": {
        "id": "XBlPbpQUj3I0"
      },
      "source": [
        "import pandas as pd\n",
        "import numpy as np\n",
        "import matplotlib.pyplot as plt"
      ],
      "execution_count": 1,
      "outputs": []
    },
    {
      "cell_type": "code",
      "metadata": {
        "id": "Gp80d374kHHu"
      },
      "source": [
        "from tensorflow.keras.datasets import mnist"
      ],
      "execution_count": 2,
      "outputs": []
    },
    {
      "cell_type": "code",
      "metadata": {
        "id": "lU0wcJ_9kk42"
      },
      "source": [
        "(x_train, y_train), (x_test,y_test) = mnist.load_data()"
      ],
      "execution_count": 3,
      "outputs": []
    },
    {
      "cell_type": "code",
      "metadata": {
        "id": "uTubyZZkkvzH"
      },
      "source": [
        "x_train = x_train / 255\n",
        "x_test = x_test / 255"
      ],
      "execution_count": 4,
      "outputs": []
    },
    {
      "cell_type": "code",
      "metadata": {
        "id": "E1qjS0QOk5XU"
      },
      "source": [
        "from tensorflow.keras.models import Sequential\n",
        "from tensorflow.keras.layers import Dense, Flatten, Reshape\n",
        "from tensorflow.keras.optimizers import SGD"
      ],
      "execution_count": 5,
      "outputs": []
    },
    {
      "cell_type": "code",
      "metadata": {
        "id": "M8RFW0kvlHXo"
      },
      "source": [
        "encoder = Sequential()\n",
        "\n",
        "encoder.add(Flatten(input_shape = (28,28)))\n",
        "encoder.add(Dense(400, activation='relu'))\n",
        "encoder.add(Dense(200, activation='relu'))\n",
        "encoder.add(Dense(100, activation='relu'))\n",
        "encoder.add(Dense(50, activation='relu'))\n",
        "encoder.add(Dense(25, activation='relu'))"
      ],
      "execution_count": 6,
      "outputs": []
    },
    {
      "cell_type": "code",
      "metadata": {
        "id": "sO4h3q1zloqu"
      },
      "source": [
        "decoder = Sequential()\n",
        "\n",
        "decoder.add(Dense(50, activation='relu', input_shape=[25]))\n",
        "decoder.add(Dense(100, activation='relu'))\n",
        "decoder.add(Dense(200, activation='relu'))\n",
        "decoder.add(Dense(400, activation='relu'))\n",
        "decoder.add(Dense(784, activation='sigmoid'))\n",
        "decoder.add(Reshape([28,28]))"
      ],
      "execution_count": 9,
      "outputs": []
    },
    {
      "cell_type": "code",
      "metadata": {
        "id": "d1LbLZTJmRdb"
      },
      "source": [
        "autoencoder = Sequential([encoder,decoder])\n",
        "autoencoder.compile(loss = 'binary_crossentropy', \n",
        "                    optimizer= SGD(learning_rate=1.5), \n",
        "                    metrics=['accuracy'])"
      ],
      "execution_count": 10,
      "outputs": []
    },
    {
      "cell_type": "code",
      "metadata": {
        "colab": {
          "base_uri": "https://localhost:8080/"
        },
        "id": "MO2fefqYmfsr",
        "outputId": "2e8683ea-5fd2-4eff-d723-fccde4b24c0c"
      },
      "source": [
        "autoencoder.fit(x_train, x_train, epochs=5, validation_data=(x_test,x_test))"
      ],
      "execution_count": 12,
      "outputs": [
        {
          "output_type": "stream",
          "text": [
            "Epoch 1/5\n",
            "1875/1875 [==============================] - 20s 11ms/step - loss: 0.2074 - accuracy: 0.1320 - val_loss: 0.1751 - val_accuracy: 0.1689\n",
            "Epoch 2/5\n",
            "1875/1875 [==============================] - 20s 11ms/step - loss: 0.1629 - accuracy: 0.1884 - val_loss: 0.1505 - val_accuracy: 0.2031\n",
            "Epoch 3/5\n",
            "1875/1875 [==============================] - 20s 11ms/step - loss: 0.1481 - accuracy: 0.2097 - val_loss: 0.1458 - val_accuracy: 0.2040\n",
            "Epoch 4/5\n",
            "1875/1875 [==============================] - 21s 11ms/step - loss: 0.1408 - accuracy: 0.2211 - val_loss: 0.1368 - val_accuracy: 0.2122\n",
            "Epoch 5/5\n",
            "1875/1875 [==============================] - 21s 11ms/step - loss: 0.1338 - accuracy: 0.2291 - val_loss: 0.1273 - val_accuracy: 0.2346\n"
          ],
          "name": "stdout"
        },
        {
          "output_type": "execute_result",
          "data": {
            "text/plain": [
              "<tensorflow.python.keras.callbacks.History at 0x7f13b97c7710>"
            ]
          },
          "metadata": {
            "tags": []
          },
          "execution_count": 12
        }
      ]
    },
    {
      "cell_type": "code",
      "metadata": {
        "id": "DVo-Fdzmncwe"
      },
      "source": [
        "passed_images = autoencoder.predict(x_test[:10])"
      ],
      "execution_count": 13,
      "outputs": []
    },
    {
      "cell_type": "code",
      "metadata": {
        "colab": {
          "base_uri": "https://localhost:8080/",
          "height": 565
        },
        "id": "fVaBcwaApmHt",
        "outputId": "0177c056-e6d7-4ab8-ff2b-5db14b49ddc6"
      },
      "source": [
        "n = 0\n",
        "print('Original Image')\n",
        "plt.imshow(x_test[n])\n",
        "plt.show()\n",
        "print('Image after autoncoder')\n",
        "plt.imshow(passed_images[n])"
      ],
      "execution_count": 16,
      "outputs": [
        {
          "output_type": "stream",
          "text": [
            "Original Image\n"
          ],
          "name": "stdout"
        },
        {
          "output_type": "display_data",
          "data": {
            "image/png": "[encoded data removed]",
            "text/plain": [
              "<Figure size 432x288 with 1 Axes>"
            ]
          },
          "metadata": {
            "tags": [],
            "needs_background": "light"
          }
        },
        {
          "output_type": "stream",
          "text": [
            "Image after autoncoder\n"
          ],
          "name": "stdout"
        },
        {
          "output_type": "execute_result",
          "data": {
            "text/plain": [
              "<matplotlib.image.AxesImage at 0x7f13b6ea8ad0>"
            ]
          },
          "metadata": {
            "tags": []
          },
          "execution_count": 16
        },
        {
          "output_type": "display_data",
          "data": {
            "image/png": "[encoded data removed]",
            "text/plain": [
              "<Figure size 432x288 with 1 Axes>"
            ]
          },
          "metadata": {
            "tags": [],
            "needs_background": "light"
          }
        }
      ]
    },
    {
      "cell_type": "code",
      "metadata": {
        "id": "4ttdjE0dsh-f"
      },
      "source": [
        "from tensorflow.keras.layers import GaussianNoise"
      ],
      "execution_count": 17,
      "outputs": []
    },
    {
      "cell_type": "code",
      "metadata": {
        "id": "k_0Hmm3EsmuA"
      },
      "source": [
        "gn = GaussianNoise(0.2)\n",
        "noisy = gn(x_test[:10], training=True)"
      ],
      "execution_count": 19,
      "outputs": []
    },
    {
      "cell_type": "code",
      "metadata": {
        "colab": {
          "base_uri": "https://localhost:8080/",
          "height": 565
        },
        "id": "e_f4o1tUs3ZZ",
        "outputId": "84f3a8d6-dcc1-4e62-8114-d8e577867b4d"
      },
      "source": [
        "n = 0\n",
        "print('Original Image')\n",
        "plt.imshow(x_test[n])\n",
        "plt.show()\n",
        "print('Image after gaussian noise')\n",
        "plt.imshow(noisy[n])"
      ],
      "execution_count": 20,
      "outputs": [
        {
          "output_type": "stream",
          "text": [
            "Original Image\n"
          ],
          "name": "stdout"
        },
        {
          "output_type": "display_data",
          "data": {
            "image/png": "[encoded data removed]",
            "text/plain": [
              "<Figure size 432x288 with 1 Axes>"
            ]
          },
          "metadata": {
            "tags": [],
            "needs_background": "light"
          }
        },
        {
          "output_type": "stream",
          "text": [
            "Image after gaussian noise\n"
          ],
          "name": "stdout"
        },
        {
          "output_type": "execute_result",
          "data": {
            "text/plain": [
              "<matplotlib.image.AxesImage at 0x7f13b6d48cd0>"
            ]
          },
          "metadata": {
            "tags": []
          },
          "execution_count": 20
        },
        {
          "output_type": "display_data",
          "data": {
            "image/png": "[encoded data removed]",
            "text/plain": [
              "<Figure size 432x288 with 1 Axes>"
            ]
          },
          "metadata": {
            "tags": [],
            "needs_background": "light"
          }
        }
      ]
    },
    {
      "cell_type": "markdown",
      "metadata": {
        "id": "4gwSvQr_tIr7"
      },
      "source": [
        "### Let's create noise removal autoencoder"
      ]
    },
    {
      "cell_type": "code",
      "metadata": {
        "id": "_hCqA2SCtMW7"
      },
      "source": [
        "encoder = Sequential()\n",
        "\n",
        "encoder.add(Flatten(input_shape = (28,28)))\n",
        "\n",
        "encoder.add(GaussianNoise(0.2))\n",
        "\n",
        "encoder.add(Dense(400, activation='relu'))\n",
        "encoder.add(Dense(200, activation='relu'))\n",
        "encoder.add(Dense(100, activation='relu'))\n",
        "encoder.add(Dense(50, activation='relu'))\n",
        "encoder.add(Dense(25, activation='relu'))"
      ],
      "execution_count": 21,
      "outputs": []
    },
    {
      "cell_type": "code",
      "metadata": {
        "id": "OK60paIXtat6"
      },
      "source": [
        "decoder = Sequential()\n",
        "\n",
        "decoder.add(Dense(50, activation='relu', input_shape=[25]))\n",
        "decoder.add(Dense(100, activation='relu'))\n",
        "decoder.add(Dense(200, activation='relu'))\n",
        "decoder.add(Dense(400, activation='relu'))\n",
        "decoder.add(Dense(784, activation='sigmoid'))\n",
        "decoder.add(Reshape([28,28]))"
      ],
      "execution_count": 22,
      "outputs": []
    },
    {
      "cell_type": "code",
      "metadata": {
        "id": "-hNLQ3FCtnkg"
      },
      "source": [
        "noise_remover = Sequential([encoder,decoder])"
      ],
      "execution_count": 23,
      "outputs": []
    },
    {
      "cell_type": "code",
      "metadata": {
        "id": "K98t2ZSktr-h"
      },
      "source": [
        "noise_remover.compile(loss='binary_crossentropy', optimizer=SGD(learning_rate=1.5))"
      ],
      "execution_count": 24,
      "outputs": []
    },
    {
      "cell_type": "code",
      "metadata": {
        "colab": {
          "base_uri": "https://localhost:8080/"
        },
        "id": "w0HODdtct7uS",
        "outputId": "d43e7de6-5c32-4bdc-d577-9aa34f2c51b0"
      },
      "source": [
        "noise_remover.fit(x_train,x_train, epochs = 8, validation_data=(x_test,x_test))"
      ],
      "execution_count": 25,
      "outputs": [
        {
          "output_type": "stream",
          "text": [
            "Epoch 1/8\n",
            "1875/1875 [==============================] - 23s 12ms/step - loss: 0.2955 - val_loss: 0.2163\n",
            "Epoch 2/8\n",
            "1875/1875 [==============================] - 22s 12ms/step - loss: 0.2044 - val_loss: 0.1723\n",
            "Epoch 3/8\n",
            "1875/1875 [==============================] - 22s 11ms/step - loss: 0.1690 - val_loss: 0.1612\n",
            "Epoch 4/8\n",
            "1875/1875 [==============================] - 21s 11ms/step - loss: 0.1528 - val_loss: 0.1475\n",
            "Epoch 5/8\n",
            "1875/1875 [==============================] - 22s 12ms/step - loss: 0.1460 - val_loss: 0.1423\n",
            "Epoch 6/8\n",
            "1875/1875 [==============================] - 22s 12ms/step - loss: 0.1423 - val_loss: 0.1360\n",
            "Epoch 7/8\n",
            "1875/1875 [==============================] - 21s 11ms/step - loss: 0.1386 - val_loss: 0.1304\n",
            "Epoch 8/8\n",
            "1875/1875 [==============================] - 21s 11ms/step - loss: 0.1341 - val_loss: 0.1294\n"
          ],
          "name": "stdout"
        },
        {
          "output_type": "execute_result",
          "data": {
            "text/plain": [
              "<tensorflow.python.keras.callbacks.History at 0x7f13b6cbab10>"
            ]
          },
          "metadata": {
            "tags": []
          },
          "execution_count": 25
        }
      ]
    },
    {
      "cell_type": "code",
      "metadata": {
        "colab": {
          "base_uri": "https://localhost:8080/",
          "height": 565
        },
        "id": "n2-ExFHzutQX",
        "outputId": "3284d38d-a784-4faf-d794-d44aa707602d"
      },
      "source": [
        "denoised_images = noise_remover.predict(x_test[:10])\n",
        "n = 0\n",
        "print('Original Image')\n",
        "plt.imshow(noisy[n])\n",
        "plt.show()\n",
        "print('Image after gaussian noise')\n",
        "plt.imshow(denoised_images[n])"
      ],
      "execution_count": 26,
      "outputs": [
        {
          "output_type": "stream",
          "text": [
            "Original Image\n"
          ],
          "name": "stdout"
        },
        {
          "output_type": "display_data",
          "data": {
            "image/png": "[encoded data removed]",
            "text/plain": [
              "<Figure size 432x288 with 1 Axes>"
            ]
          },
          "metadata": {
            "tags": [],
            "needs_background": "light"
          }
        },
        {
          "output_type": "stream",
          "text": [
            "Image after gaussian noise\n"
          ],
          "name": "stdout"
        },
        {
          "output_type": "execute_result",
          "data": {
            "text/plain": [
              "<matplotlib.image.AxesImage at 0x7f13bfb46a50>"
            ]
          },
          "metadata": {
            "tags": []
          },
          "execution_count": 26
        },
        {
          "output_type": "display_data",
          "data": {
            "image/png": "[encoded data removed]",
            "text/plain": [
              "<Figure size 432x288 with 1 Axes>"
            ]
          },
          "metadata": {
            "tags": [],
            "needs_background": "light"
          }
        }
      ]
    }
  ]
}